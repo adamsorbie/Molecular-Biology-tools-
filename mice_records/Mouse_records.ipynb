{
 "cells": [
  {
   "cell_type": "code",
   "execution_count": 59,
   "metadata": {
    "collapsed": true
   },
   "outputs": [],
   "source": [
    "import pandas as pd\n",
    "import xlsxwriter\n",
    "import openpyxl\n",
    "from openpyxl import load_workbook"
   ]
  },
  {
   "cell_type": "code",
   "execution_count": null,
   "metadata": {},
   "outputs": [],
   "source": []
  },
  {
   "cell_type": "code",
   "execution_count": 70,
   "metadata": {},
   "outputs": [
    {
     "name": "stdout",
     "output_type": "stream",
     "text": [
      "Enter mouse number: AV454\n",
      "Enter mouse genotype: tg/tg\n",
      "2017-10-04\n"
     ]
    }
   ],
   "source": [
    "mouse = input(\"Enter mouse number: \")\n",
    "genotype = input(\"Enter mouse genotype: \")\n",
    "date = pd.to_datetime('today')\n",
    "today = date.date()\n",
    "print(today)\n",
    "list_data = [mouse, genotype, date]\n",
    "organ_data = [mouse, date]\n",
    "seq_inputs = ['caecal content', 'caecal content', 'faecal proximal', 'faecal distal', 'colon tissue']\n",
    "joined_seq = list_data + seq_inputs\n",
    "\n",
    "histo_inputs = ['x', 'x', 'OCT']\n",
    "joined_histo = list_data + histo_inputs\n",
    "\n",
    "organs_inputs = ['x', 'x', 'x', 'x', ' ', 'x'] # need a conditional here for AVI  \n",
    "joined_organs = organ_data + organs_inputs"
   ]
  },
  {
   "cell_type": "code",
   "execution_count": 72,
   "metadata": {},
   "outputs": [],
   "source": [
    "def seq_samples_write():\n",
    "    wb = load_workbook('mouse_sequencing_culture.xlsx')\n",
    "    ws = wb.active\n",
    "    ws.append(joined_seq)\n",
    "    wb.save('mouse_sequencing_culture.xlsx')\n",
    "seq_samples_write()\n",
    "\n",
    "def histo_write():\n",
    "    wb = load_workbook('histology.xlsx')\n",
    "    ws = wb.active\n",
    "    ws.append(joined_histo)\n",
    "    wb.save('histology.xlsx')\n",
    "histo_write()\n",
    "\n",
    "def organs_write():\n",
    "    wb = load_workbook('mouse_organs.xlsx')\n",
    "    ws = wb.active\n",
    "    ws.append(joined_organs)\n",
    "    wb.save('mouse_organs.xlsx')\n",
    "organs_write()"
   ]
  },
  {
   "cell_type": "code",
   "execution_count": null,
   "metadata": {
    "collapsed": true
   },
   "outputs": [],
   "source": [
    "    "
   ]
  },
  {
   "cell_type": "code",
   "execution_count": null,
   "metadata": {
    "collapsed": true
   },
   "outputs": [],
   "source": [
    "samples = input(\"Normal sampling procedure? (y/n)\")\n",
    "\n",
    "if samples == 'y': \n",
    "    seq_write(seq_samples)"
   ]
  }
 ],
 "metadata": {
  "kernelspec": {
   "display_name": "Python 3",
   "language": "python",
   "name": "python3"
  },
  "language_info": {
   "codemirror_mode": {
    "name": "ipython",
    "version": 3
   },
   "file_extension": ".py",
   "mimetype": "text/x-python",
   "name": "python",
   "nbconvert_exporter": "python",
   "pygments_lexer": "ipython3",
   "version": "3.6.1"
  }
 },
 "nbformat": 4,
 "nbformat_minor": 2
}
