{
 "cells": [
  {
   "cell_type": "code",
   "execution_count": 3,
   "metadata": {
    "collapsed": false,
    "deletable": true,
    "editable": true
   },
   "outputs": [
    {
     "name": "stdout",
     "output_type": "stream",
     "text": [
      "Enter missing samplescaecal content\n"
     ]
    }
   ],
   "source": [
    "def seq_check(missing_samples):\n",
    "    seq = cc + cc2 + fp + fd + ct\n",
    "    for sample in missing_samples:\n",
    "        if missing_samples in seq:\n",
    "            seq.remove(missing_samples)\n",
    "    return seq\n",
    "\n",
    "\n",
    "cc = ['caecal content']\n",
    "cc2 = ['caecal content']\n",
    "fp = ['faecal proximal']\n",
    "fd = ['faecal distal']\n",
    "ct = ['colon tissue']\n",
    "histo_inputs = ['x', 'x', 'OCT']\n",
    "organs_inputs = ['x', 'x', 'x', 'x', 'x', 'x'] \n",
    "missing_samples = str(input(\"Enter missing samples\"))"
   ]
  },
  {
   "cell_type": "code",
   "execution_count": 6,
   "metadata": {
    "collapsed": false,
    "deletable": true,
    "editable": true
   },
   "outputs": [
    {
     "name": "stdout",
     "output_type": "stream",
     "text": [
      "['faecal proximal', 'faecal distal', 'colon tissue']\n"
     ]
    }
   ],
   "source": [
    "print(seq_check(missing_samples))\n"
   ]
  },
  {
   "cell_type": "code",
   "execution_count": 9,
   "metadata": {
    "collapsed": false,
    "deletable": true,
    "editable": true
   },
   "outputs": [
    {
     "name": "stdout",
     "output_type": "stream",
     "text": [
      "['caecal content', 'caecal content', 'faecal proximal', 'faecal distal', 'colon tissue']\n"
     ]
    }
   ],
   "source": [
    "def join_seq_list():\n",
    "    seq_inputs = cc + cc2 + fp + fd + ct \n",
    "    return seq_inputs \n",
    "print(join_seq_list())"
   ]
  },
  {
   "cell_type": "code",
   "execution_count": null,
   "metadata": {
    "collapsed": true
   },
   "outputs": [],
   "source": []
  }
 ],
 "metadata": {
  "kernelspec": {
   "display_name": "Python 3",
   "language": "python",
   "name": "python3"
  },
  "language_info": {
   "codemirror_mode": {
    "name": "ipython",
    "version": 3
   },
   "file_extension": ".py",
   "mimetype": "text/x-python",
   "name": "python",
   "nbconvert_exporter": "python",
   "pygments_lexer": "ipython3",
   "version": "3.6.1"
  }
 },
 "nbformat": 4,
 "nbformat_minor": 2
}
