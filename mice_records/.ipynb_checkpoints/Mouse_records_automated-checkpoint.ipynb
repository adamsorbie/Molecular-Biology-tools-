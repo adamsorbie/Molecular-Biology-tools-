{
 "cells": [
  {
   "cell_type": "code",
   "execution_count": 1,
   "metadata": {
    "collapsed": true
   },
   "outputs": [],
   "source": [
    "import pandas as pd\n",
    "import openpyxl\n",
    "from openpyxl import load_workbook"
   ]
  },
  {
   "cell_type": "code",
   "execution_count": null,
   "metadata": {},
   "outputs": [],
   "source": [
    "def join_seq_list(cc,cc2, fp,fd,ct):\n",
    "    seq_inputs = cc + cc2 + fp + fd + ct \n",
    "    return seq_inputs \n",
    "\n",
    "def samples_check(missing_samples):\n",
    "    seq = join_seq_list(cc,cc2,fp,fd,ct)\n",
    "    for sample in missing_samples:\n",
    "        if missing_samples in seq:\n",
    "            seq.remove(missing_samples)\n",
    "    for x in histo_inputs:\n",
    "        if 'SRC' in missing_samples:\n",
    "            histo_inputs.remove([0])\n",
    "        elif 'SRI' in missing_samples:\n",
    "            histo_inputs.remove([1])\n",
    "    for x in organs_inputs:\n",
    "        if 'liver' in missing_samples:\n",
    "            organs_inputs.remove([0])\n",
    "        elif 'thymus' in missing_samples:\n",
    "            organs_inputs.remove([1])\n",
    "        elif 'pancreas' in missing_samples:\n",
    "            organs_inputs.remove([2])\n",
    "        elif 'spleen' in missing_samples:\n",
    "            organs_inputs.remove([3])\n",
    "        elif 'MLN' in missing_samples:\n",
    "            organs_inputs.remove([4])\n",
    "        elif 'organs' in missing_samples:\n",
    "            organs_inputs.remove([5])\n",
    "    \n",
    "          \n",
    "\n",
    "samples = input(\"Normal sampling procedure? (y/n)\")\n",
    "\n",
    "if samples == 'y': \n",
    "    mouse = input(\"Enter mouse number: \")\n",
    "    genotype = input(\"Enter mouse genotype: \")\n",
    "    date = pd.to_datetime('today')\n",
    "    today = date.date()\n",
    "    list_data = [mouse, today, genotype]\n",
    "    organ_data = [mouse, date]\n",
    "    cc = ['caecal content']\n",
    "    cc2 = ['caecal content']\n",
    "    fp = ['faecal proximal']\n",
    "    fd = ['faecal distal']\n",
    "    ct = ['colon tissue']\n",
    "    histo_inputs = ['x', 'x', 'OCT']\n",
    "    joined_histo = list_data + histo_inputs\n",
    "    if 'AVI' in mouse:\n",
    "        organs_inputs = ['x', 'x', 'x', 'x', 'x', 'x'] \n",
    "        joined_organs = organ_data + organs_inputs\n",
    "    else: \n",
    "        organs_inputs = ['x', 'x', 'x', 'x', ' ', 'x']  \n",
    "        joined_organs = organ_data + organs_inputs\n",
    "        \n",
    "if samples == 'n':\n",
    "    missing_samples = input(\"Enter missing samples\"): \n",
    "    mouse = input(\"Enter mouse number: \")\n",
    "    genotype = input(\"Enter mouse genotype: \")\n",
    "    date = pd.to_datetime('today')\n",
    "    today = date.date()\n",
    "    list_data = [mouse, today, genotype]\n",
    "    organ_data = [mouse, date]\n",
    "    cc = ['caecal content']\n",
    "    cc2 = ['caecal content']\n",
    "    fp = ['faecal proximal']\n",
    "    fd = ['faecal distal']\n",
    "    ct = ['colon tissue']\n",
    "    histo_inputs = ['x', 'x', 'OCT']\n",
    "    joined_histo = list_data + histo_inputs\n",
    "    if 'AVI' in mouse:\n",
    "        organs_inputs = ['x', 'x', 'x', 'x', 'x', 'x'] \n",
    "        joined_organs = organ_data + organs_inputs\n",
    "    else: \n",
    "        organs_inputs = ['x', 'x', 'x', 'x', ' ', 'x']  \n",
    "        joined_organs = organ_data + organs_inputs\n",
    "    join_seq_list(cc, cc2,fp,fd,ct)\n",
    "    samples_check(missing_samples)"
   ]
  },
  {
   "cell_type": "code",
   "execution_count": 42,
   "metadata": {},
   "outputs": [],
   "source": [
    "def seq_samples_write():\n",
    "    wb = load_workbook('mouse_sequencing_culture.xlsx')\n",
    "    ws = wb.active\n",
    "    ws.append(list_data + cc)\n",
    "    ws.append(list_data + cc2)\n",
    "    ws.append(list_data + fp)\n",
    "    ws.append(list_data + fd)\n",
    "    ws.append(list_data + ct)\n",
    "    wb.save('mouse_sequencing_culture.xlsx')\n",
    "\n",
    "def histo_write():\n",
    "    wb = load_workbook('histology.xlsx')\n",
    "    ws = wb.active\n",
    "    ws.append(joined_histo)\n",
    "    wb.save('histology.xlsx')\n",
    "\n",
    "def organs_write():\n",
    "    wb = load_workbook('mouse_organs.xlsx')\n",
    "    ws = wb.active\n",
    "    ws.append(joined_organs)\n",
    "    wb.save('mouse_organs.xlsx')"
   ]
  },
  {
   "cell_type": "code",
   "execution_count": 45,
   "metadata": {},
   "outputs": [],
   "source": [
    "if samples == 'y': \n",
    "    seq_samples_write()\n",
    "    histo_write()\n",
    "    organs_write()"
   ]
  },
  {
   "cell_type": "code",
   "execution_count": null,
   "metadata": {
    "collapsed": true
   },
   "outputs": [],
   "source": [
    "    "
   ]
  },
  {
   "cell_type": "code",
   "execution_count": null,
   "metadata": {
    "collapsed": true
   },
   "outputs": [],
   "source": []
  }
 ],
 "metadata": {
  "kernelspec": {
   "display_name": "Python 3",
   "language": "python",
   "name": "python3"
  },
  "language_info": {
   "codemirror_mode": {
    "name": "ipython",
    "version": 3
   },
   "file_extension": ".py",
   "mimetype": "text/x-python",
   "name": "python",
   "nbconvert_exporter": "python",
   "pygments_lexer": "ipython3",
   "version": "3.6.1"
  }
 },
 "nbformat": 4,
 "nbformat_minor": 2
}
