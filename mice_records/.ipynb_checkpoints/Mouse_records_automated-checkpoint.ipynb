{
 "cells": [
  {
   "cell_type": "code",
   "execution_count": 1,
   "metadata": {
    "collapsed": true,
    "deletable": true,
    "editable": true
   },
   "outputs": [],
   "source": [
    "import pandas as pd\n",
    "import openpyxl\n",
    "from openpyxl import load_workbook"
   ]
  },
  {
   "cell_type": "code",
   "execution_count": 41,
   "metadata": {
    "collapsed": false,
    "deletable": true,
    "editable": true
   },
   "outputs": [
    {
     "name": "stdout",
     "output_type": "stream",
     "text": [
      "Normal sampling procedure? (y/n)y\n",
      "Enter mouse number: AV678\n",
      "Enter mouse genotype: fl/fl\n"
     ]
    }
   ],
   "source": [
    "samples = input(\"Normal sampling procedure? (y/n)\")\n",
    "\n",
    "if samples == 'y': \n",
    "    mouse = input(\"Enter mouse number: \")\n",
    "    genotype = input(\"Enter mouse genotype: \")\n",
    "    date = pd.to_datetime('today')\n",
    "    today = date.date()\n",
    "    list_data = [mouse, today, genotype]\n",
    "    organ_data = [mouse, date]\n",
    "    cc = ['caecal content']\n",
    "    cc2 = ['caecal content']\n",
    "    fp = ['faecal proximal']\n",
    "    fd = ['faecal distal']\n",
    "    ct = ['colon tissue']\n",
    "    histo_inputs = ['x', 'x', 'OCT']\n",
    "    joined_histo = list_data + histo_inputs\n",
    "    if 'AVI' in mouse:\n",
    "        organs_inputs = ['x', 'x', 'x', 'x', 'x', 'x'] \n",
    "        joined_organs = organ_data + organs_inputs\n",
    "    else: \n",
    "        organs_inputs = ['x', 'x', 'x', 'x', ' ', 'x']  \n",
    "        joined_organs = organ_data + organs_inputs"
   ]
  },
  {
   "cell_type": "code",
   "execution_count": 42,
   "metadata": {
    "collapsed": false,
    "deletable": true,
    "editable": true
   },
   "outputs": [],
   "source": [
    "def seq_samples_write():\n",
    "    wb = load_workbook('mouse_sequencing_culture.xlsx')\n",
    "    ws = wb.active\n",
    "    ws.append(list_data + cc)\n",
    "    ws.append(list_data + cc2)\n",
    "    ws.append(list_data + fp)\n",
    "    ws.append(list_data + fd)\n",
    "    ws.append(list_data + ct)\n",
    "    wb.save('mouse_sequencing_culture.xlsx')\n",
    "\n",
    "def histo_write():\n",
    "    wb = load_workbook('histology.xlsx')\n",
    "    ws = wb.active\n",
    "    ws.append(joined_histo)\n",
    "    wb.save('histology.xlsx')\n",
    "\n",
    "def organs_write():\n",
    "    wb = load_workbook('mouse_organs.xlsx')\n",
    "    ws = wb.active\n",
    "    ws.append(joined_organs)\n",
    "    wb.save('mouse_organs.xlsx')"
   ]
  },
  {
   "cell_type": "code",
   "execution_count": 45,
   "metadata": {
    "collapsed": false,
    "deletable": true,
    "editable": true
   },
   "outputs": [],
   "source": [
    "if samples == 'y': \n",
    "    seq_samples_write()\n",
    "    histo_write()\n",
    "    organs_write()"
   ]
  },
  {
   "cell_type": "code",
   "execution_count": null,
   "metadata": {
    "collapsed": true,
    "deletable": true,
    "editable": true
   },
   "outputs": [],
   "source": [
    "    "
   ]
  },
  {
   "cell_type": "code",
   "execution_count": null,
   "metadata": {
    "collapsed": true,
    "deletable": true,
    "editable": true
   },
   "outputs": [],
   "source": []
  }
 ],
 "metadata": {
  "kernelspec": {
   "display_name": "Python 3",
   "language": "python",
   "name": "python3"
  },
  "language_info": {
   "codemirror_mode": {
    "name": "ipython",
    "version": 3
   },
   "file_extension": ".py",
   "mimetype": "text/x-python",
   "name": "python",
   "nbconvert_exporter": "python",
   "pygments_lexer": "ipython3",
   "version": "3.6.1"
  }
 },
 "nbformat": 4,
 "nbformat_minor": 2
}
