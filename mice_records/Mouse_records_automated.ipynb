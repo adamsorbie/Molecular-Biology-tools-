{
 "cells": [
  {
   "cell_type": "markdown",
   "metadata": {},
   "source": [
    "## To add \n",
    "\n",
    "Error handling\n",
    "\n",
    "AVI conditional for MLN \n",
    "\n",
    "check seq_check working correctly\n",
    "\n",
    "check with formatting\n",
    "\n",
    "testing"
   ]
  },
  {
   "cell_type": "code",
   "execution_count": 43,
   "metadata": {
    "collapsed": true,
    "deletable": true,
    "editable": true
   },
   "outputs": [],
   "source": [
    "import pandas as pd\n",
    "import openpyxl\n",
    "from openpyxl import load_workbook\n",
    "from openpyxl.formatting.formatting import ConditionalFormatting"
   ]
  },
  {
   "cell_type": "code",
   "execution_count": 40,
   "metadata": {
    "collapsed": false,
    "deletable": true,
    "editable": true
   },
   "outputs": [],
   "source": [
    "def join_seq_list():\n",
    "    seq_inputs = cc + cc2 + fp + fd + ct \n",
    "    return seq_inputs \n",
    "\n",
    "def seq_check(missing_samples):\n",
    "    seq = join_seq_list()\n",
    "    for sample in missing_samples:\n",
    "        if missing_samples in seq:\n",
    "            seq.remove(missing_samples)\n",
    "    return seq\n",
    "\n",
    "def histo_check(missing_samples):\n",
    "    if 'SRC' in missing_samples:\n",
    "        histo_inputs[0] = \" \"\n",
    "    elif 'SRI' in missing_samples:\n",
    "        histo_inputs[1] = \" \"\n",
    "    return histo_inputs\n",
    "\n",
    "def organ_check(missing_samples):\n",
    "    if 'liver' in missing_samples:\n",
    "        organs_inputs[0] = \" \"\n",
    "    elif 'thymus' in missing_samples:\n",
    "        organs_inputs[1] = \" \"\n",
    "    elif 'pancreas' in missing_samples:\n",
    "        organs_inputs[2] = \" \"\n",
    "    elif 'spleen' in missing_samples:\n",
    "        organs_inputs[3] = \" \"\n",
    "    elif 'MLN' in missing_samples:\n",
    "        organs_inputs[4] = \" \"\n",
    "    elif 'organs' in missing_samples:\n",
    "            organs_inputs[5] = \" \"\n",
    "    return organs_inputs\n",
    "            \n",
    "def seq_samples_write():\n",
    "    wb = load_workbook('mouse_sequencing_culture.xlsx')\n",
    "    ws = wb.active\n",
    "    ws.append(list_data + cc)\n",
    "    ws.append(list_data + cc2)\n",
    "    ws.append(list_data + fp)\n",
    "    ws.append(list_data + fd)\n",
    "    ws.append(list_data + ct)\n",
    "    wb.save('mouse_sequencing_culture.xlsx')\n",
    "\n",
    "def histo_write():\n",
    "    wb = load_workbook('histology.xlsx')\n",
    "    ws = wb.active\n",
    "    ws.append(joined_histo)\n",
    "    wb.save('histology.xlsx')\n",
    "\n",
    "def organs_write():\n",
    "    wb = load_workbook('mouse_organs.xlsx')\n",
    "    ws = wb.active\n",
    "    ws.append(joined_organs)\n",
    "    wb.save('mouse_organs.xlsx')"
   ]
  },
  {
   "cell_type": "code",
   "execution_count": 41,
   "metadata": {
    "collapsed": false,
    "deletable": true,
    "editable": true
   },
   "outputs": [
    {
     "name": "stdout",
     "output_type": "stream",
     "text": [
      "Normal sampling procedure? (y/n)y\n",
      "Enter mouse number: AV989\n",
      "Enter mouse genotype: wt/wt\n"
     ]
    }
   ],
   "source": [
    "samples = input(\"Normal sampling procedure? (y/n)\")\n",
    "\n",
    "if samples == 'y': \n",
    "    mouse = input(\"Enter mouse number: \")\n",
    "    if 'AVI' in mouse:\n",
    "        genotype = input(\"Enter mouse genotype: \")\n",
    "        genotype_2 = input(\"Enter mouse genotype 2: \")\n",
    "        date = pd.to_datetime('today')\n",
    "        today = date.date()\n",
    "        list_data = [mouse, today, genotype]\n",
    "        organ_data = [mouse, date]\n",
    "        cc = ['caecal content']\n",
    "        cc2 = ['caecal content']\n",
    "        fp = ['faecal proximal']\n",
    "        fd = ['faecal distal']\n",
    "        ct = ['colon tissue']\n",
    "        histo_inputs = ['x', 'x', 'OCT']\n",
    "        joined_histo = list_data + histo_inputs\n",
    "        organs_inputs = ['x', 'x', 'x', 'x', 'x', 'x'] \n",
    "        joined_organs = organ_data + organs_inputs\n",
    "    else:\n",
    "        genotype = input(\"Enter mouse genotype: \")\n",
    "        date = pd.to_datetime('today')\n",
    "        today = date.date()\n",
    "        list_data = [mouse, today, genotype]\n",
    "        organ_data = [mouse, date]\n",
    "        cc = ['caecal content']\n",
    "        cc2 = ['caecal content']\n",
    "        fp = ['faecal proximal']\n",
    "        fd = ['faecal distal']\n",
    "        ct = ['colon tissue']\n",
    "        histo_inputs = ['x', 'x', 'OCT']\n",
    "        joined_histo = list_data + histo_inputs\n",
    "        organs_inputs = ['x', 'x', 'x', 'x', ' ', 'x']  \n",
    "        joined_organs = organ_data + organs_inputs\n",
    "        \n",
    "if samples == 'n':\n",
    "    missing_samples = str(input(\"Enter missing samples\"))\n",
    "    mouse = input(\"Enter mouse number: \")\n",
    "    if 'AVI' in mouse: \n",
    "        genotype = input(\"Enter mouse genotype: \")\n",
    "        genotype_2 = input(\"Enter mouse genotype 2: \")\n",
    "        date = pd.to_datetime('today')\n",
    "        today = date.date()\n",
    "        list_data = [mouse, today, genotype]\n",
    "        organ_data = [mouse, date]\n",
    "        cc = ['caecal content']\n",
    "        cc2 = ['caecal content']\n",
    "        fp = ['faecal proximal']\n",
    "        fd = ['faecal distal']\n",
    "        ct = ['colon tissue']\n",
    "        seq_check(missing_samples)\n",
    "        histo_inputs = ['x', 'x', 'OCT']\n",
    "        histo_check(missing_samples)\n",
    "        joined_histo = list_data + histo_inputs\n",
    "        organs_inputs = ['x', 'x', 'x', 'x', 'x', 'x'] \n",
    "        organ_check(missing_samples)\n",
    "        joined_organs = organ_data + organs_inputs\n",
    "    else: \n",
    "        genotype = input(\"Enter mouse genotype: \")\n",
    "        date = pd.to_datetime('today')\n",
    "        today = date.date()\n",
    "        list_data = [mouse, today, genotype]\n",
    "        organ_data = [mouse, date]\n",
    "        cc = ['caecal content']\n",
    "        cc2 = ['caecal content']\n",
    "        fp = ['faecal proximal']\n",
    "        fd = ['faecal distal']\n",
    "        ct = ['colon tissue']\n",
    "        seq_check(missing_samples)\n",
    "        histo_inputs = ['x', 'x', 'OCT']\n",
    "        histo_check(missing_samples)\n",
    "        joined_histo = list_data + histo_inputs\n",
    "        organs_inputs = ['x', 'x', 'x', 'x', 'x', 'x'] \n",
    "        organ_check(missing_samples)\n",
    "        joined_organs = organ_data + organs_inputs"
   ]
  },
  {
   "cell_type": "code",
   "execution_count": 42,
   "metadata": {
    "collapsed": false,
    "deletable": true,
    "editable": true
   },
   "outputs": [
    {
     "ename": "AttributeError",
     "evalue": "'ConditionalFormattingList' object has no attribute 'setDxfStyles'",
     "output_type": "error",
     "traceback": [
      "\u001b[1;31m---------------------------------------------------------------------------\u001b[0m",
      "\u001b[1;31mAttributeError\u001b[0m                            Traceback (most recent call last)",
      "\u001b[1;32m<ipython-input-42-7657e255ff5f>\u001b[0m in \u001b[0;36m<module>\u001b[1;34m()\u001b[0m\n\u001b[1;32m----> 1\u001b[1;33m \u001b[0mseq_samples_write\u001b[0m\u001b[1;33m(\u001b[0m\u001b[1;33m)\u001b[0m\u001b[1;33m\u001b[0m\u001b[0m\n\u001b[0m\u001b[0;32m      2\u001b[0m \u001b[0mhisto_write\u001b[0m\u001b[1;33m(\u001b[0m\u001b[1;33m)\u001b[0m\u001b[1;33m\u001b[0m\u001b[0m\n\u001b[0;32m      3\u001b[0m \u001b[0morgans_write\u001b[0m\u001b[1;33m(\u001b[0m\u001b[1;33m)\u001b[0m\u001b[1;33m\u001b[0m\u001b[0m\n",
      "\u001b[1;32m<ipython-input-40-51821b51f628>\u001b[0m in \u001b[0;36mseq_samples_write\u001b[1;34m()\u001b[0m\n\u001b[0;32m     35\u001b[0m     \u001b[0mwb\u001b[0m \u001b[1;33m=\u001b[0m \u001b[0mload_workbook\u001b[0m\u001b[1;33m(\u001b[0m\u001b[1;34m'mouse_sequencing_culture.xlsx'\u001b[0m\u001b[1;33m)\u001b[0m\u001b[1;33m\u001b[0m\u001b[0m\n\u001b[0;32m     36\u001b[0m     \u001b[0mws\u001b[0m \u001b[1;33m=\u001b[0m \u001b[0mwb\u001b[0m\u001b[1;33m.\u001b[0m\u001b[0mactive\u001b[0m\u001b[1;33m\u001b[0m\u001b[0m\n\u001b[1;32m---> 37\u001b[1;33m     \u001b[0mws\u001b[0m\u001b[1;33m.\u001b[0m\u001b[0mconditional_formatting\u001b[0m\u001b[1;33m.\u001b[0m\u001b[0msetDxfStyles\u001b[0m\u001b[1;33m(\u001b[0m\u001b[0mwb\u001b[0m\u001b[1;33m)\u001b[0m\u001b[1;33m\u001b[0m\u001b[0m\n\u001b[0m\u001b[0;32m     38\u001b[0m     \u001b[0mws\u001b[0m\u001b[1;33m.\u001b[0m\u001b[0mappend\u001b[0m\u001b[1;33m(\u001b[0m\u001b[0mlist_data\u001b[0m \u001b[1;33m+\u001b[0m \u001b[0mcc\u001b[0m\u001b[1;33m)\u001b[0m\u001b[1;33m\u001b[0m\u001b[0m\n\u001b[0;32m     39\u001b[0m     \u001b[0mws\u001b[0m\u001b[1;33m.\u001b[0m\u001b[0mappend\u001b[0m\u001b[1;33m(\u001b[0m\u001b[0mlist_data\u001b[0m \u001b[1;33m+\u001b[0m \u001b[0mcc2\u001b[0m\u001b[1;33m)\u001b[0m\u001b[1;33m\u001b[0m\u001b[0m\n",
      "\u001b[1;31mAttributeError\u001b[0m: 'ConditionalFormattingList' object has no attribute 'setDxfStyles'"
     ]
    }
   ],
   "source": [
    "seq_samples_write()\n",
    "histo_write()\n",
    "organs_write()"
   ]
  },
  {
   "cell_type": "code",
   "execution_count": null,
   "metadata": {
    "collapsed": true,
    "deletable": true,
    "editable": true
   },
   "outputs": [],
   "source": [
    "    "
   ]
  },
  {
   "cell_type": "code",
   "execution_count": null,
   "metadata": {
    "collapsed": true,
    "deletable": true,
    "editable": true
   },
   "outputs": [],
   "source": []
  }
 ],
 "metadata": {
  "kernelspec": {
   "display_name": "Python 3",
   "language": "python",
   "name": "python3"
  },
  "language_info": {
   "codemirror_mode": {
    "name": "ipython",
    "version": 3
   },
   "file_extension": ".py",
   "mimetype": "text/x-python",
   "name": "python",
   "nbconvert_exporter": "python",
   "pygments_lexer": "ipython3",
   "version": "3.6.1"
  }
 },
 "nbformat": 4,
 "nbformat_minor": 2
}
