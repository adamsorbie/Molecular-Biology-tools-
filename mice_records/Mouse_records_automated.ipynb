{
 "cells": [
  {
   "cell_type": "markdown",
   "metadata": {},
   "source": [
    "## To add \n",
    "\n",
    "Error handling\n",
    "\n",
    "check if it can work with formatting\n",
    "\n",
    "testing"
   ]
  },
  {
   "cell_type": "code",
   "execution_count": 1,
   "metadata": {
    "collapsed": true
   },
   "outputs": [],
   "source": [
    "import pandas as pd\n",
    "import openpyxl\n",
    "from openpyxl import load_workbook"
   ]
  },
  {
   "cell_type": "code",
   "execution_count": 2,
   "metadata": {},
   "outputs": [],
   "source": [
    "def join_seq_list():\n",
    "    seq_inputs = cc + cc2 + fp + fd + ct \n",
    "    return seq_inputs \n",
    "\n",
    "def seq_check(missing_samples):\n",
    "    seq = join_seq_list()\n",
    "    for sample in missing_samples:\n",
    "        if missing_samples in seq:\n",
    "            seq.remove(missing_samples)\n",
    "    return seq\n",
    "\n",
    "def histo_check(missing_samples):\n",
    "    if 'SRC' in missing_samples:\n",
    "        histo_inputs[0] = \" \"\n",
    "    elif 'SRI' in missing_samples:\n",
    "        histo_inputs[1] = \" \"\n",
    "    return histo_inputs\n",
    "\n",
    "def organ_check(missing_samples):\n",
    "    if 'liver' in missing_samples:\n",
    "        organs_inputs[0] = \" \"\n",
    "    elif 'thymus' in missing_samples:\n",
    "        organs_inputs[1] = \" \"\n",
    "    elif 'pancreas' in missing_samples:\n",
    "        organs_inputs[2] = \" \"\n",
    "    elif 'spleen' in missing_samples:\n",
    "        organs_inputs[3] = \" \"\n",
    "    elif 'MLN' in missing_samples:\n",
    "        organs_inputs[4] = \" \"\n",
    "    elif 'organs' in missing_samples:\n",
    "            organs_inputs[5] = \" \"\n",
    "    return organs_inputs\n",
    "\n",
    "            \n",
    "def seq_samples_write():\n",
    "    wb = load_workbook('mouse_sequencing_culture.xlsx')\n",
    "    ws = wb.active\n",
    "    ws.append(list_data + cc) # include for loop \n",
    "    ws.append(list_data + cc2)\n",
    "    ws.append(list_data + fp)\n",
    "    ws.append(list_data + fd)\n",
    "    ws.append(list_data + ct)\n",
    "    wb.save('mouse_sequencing_culture.xlsx')\n",
    "\n",
    "def histo_write():\n",
    "    wb = load_workbook('histology.xlsx')\n",
    "    ws = wb.active\n",
    "    ws.append(joined_histo)\n",
    "    wb.save('histology.xlsx')\n",
    "\n",
    "def organs_write():\n",
    "    wb = load_workbook('mouse_organs.xlsx')\n",
    "    ws = wb.active\n",
    "    ws.append(joined_organs)\n",
    "    wb.save('mouse_organs.xlsx')"
   ]
  },
  {
   "cell_type": "code",
   "execution_count": 3,
   "metadata": {},
   "outputs": [
    {
     "name": "stdout",
     "output_type": "stream",
     "text": [
      "Normal sampling procedure? (y/n)y\n",
      "Enter mouse number: AV657\n",
      "Enter mouse genotype: wt/wt\n"
     ]
    }
   ],
   "source": [
    "samples = input(\"Normal sampling procedure? (y/n)\")\n",
    "\n",
    "\n",
    "if samples == 'y': \n",
    "    mice = input(\"Enter mice numbers: \")\n",
    "    if 'AVI' in mice:\n",
    "        genotype = input(\"Enter genotypes: \")\n",
    "        genotype_2 = input(\"Enter genotypes 2: \")\n",
    "        date = pd.to_datetime('today')\n",
    "        today = date.date()\n",
    "        organ_data = [mice, date]\n",
    "        cc = ['caecal content']\n",
    "        cc2 = ['caecal content']\n",
    "        fp = ['faecal proximal']\n",
    "        fd = ['faecal distal']\n",
    "        ct = ['colon tissue']\n",
    "        histo_inputs = ['x', 'x', 'OCT']\n",
    "        joined_histo = list_data + histo_inputs\n",
    "        organs_inputs = ['x', 'x', 'x', 'x', 'x', 'x'] \n",
    "        joined_organs = organ_data + organs_inputs\n",
    "    else:\n",
    "        genotype = input(\"Enter genotypes: \")\n",
    "        date = pd.to_datetime('today')\n",
    "        today = date.date()\n",
    "        list_data = [mice, today, genotype]\n",
    "        organ_data = [mice, date]\n",
    "        cc = ['caecal content']\n",
    "        cc2 = ['caecal content']\n",
    "        fp = ['faecal proximal']\n",
    "        fd = ['faecal distal']\n",
    "        ct = ['colon tissue']\n",
    "        histo_inputs = ['x', 'x', 'OCT']\n",
    "        joined_histo = list_data + histo_inputs\n",
    "        organs_inputs = ['x', 'x', 'x', 'x', ' ', 'x']  \n",
    "        joined_organs = organ_data + organs_inputs\n",
    "        \n",
    "elif samples == 'n':\n",
    "    print(\"Missing samples:\")\n",
    "    missing_list = [\"caecal content\", \"faecal proximal\", \"faecal distal\", \"colon tissue\",\n",
    "    \"liver\", \"thymus\", \"pancreas\", \"MLN\", \"organs\", \"SRC\", \"SRI\"]\n",
    "    print(missing_list)\n",
    "    missing_samples = str(input(\"Enter missing samples\"))\n",
    "    mice = input(\"Enter mice numbers: \")\n",
    "    if 'AVI' in mice: \n",
    "        genotype = input(\"Enter genotypes: \")\n",
    "        list_genotypes = [\"tg/wt\", \"tg/tg\", \"wt/wt\"]\n",
    "        if genotype not in list_genotypes:\n",
    "            print(\"Error unknown genotype!\")\n",
    "        genotype_2 = input(\"Enter genotypes 2: \")\n",
    "        list_genotypes_2 = [\"tg/wt\", \"tg/cre\"\n",
    "        if genotype not in list_genotypes_2:\n",
    "            print(\"Error unknown genotype!\")\n",
    "        genotype_3 = \"IL10 -/-\"\n",
    "        date = pd.to_datetime('today')\n",
    "        today = date.date()\n",
    "        list_data = [mice, today, genotype, genotype_2, genotype_3]\n",
    "        organ_data = [mice, date]\n",
    "        cc = ['caecal content']\n",
    "        cc2 = ['caecal content']\n",
    "        fp = ['faecal proximal']\n",
    "        fd = ['faecal distal']\n",
    "        ct = ['colon tissue']\n",
    "        seq_check(missing_samples)\n",
    "        histo_inputs = ['x', 'x', 'OCT']\n",
    "        histo_check(missing_samples)\n",
    "        joined_histo = list_data + histo_inputs\n",
    "        organs_inputs = ['x', 'x', 'x', 'x', 'x', 'x'] \n",
    "        organ_check(missing_samples)\n",
    "        joined_organs = organ_data + organs_inputs\n",
    "    else: \n",
    "        genotype = input(\"Enter genotypes: \")\n",
    "        date = pd.to_datetime('today')\n",
    "        today = date.date()\n",
    "        list_data = [mice, today, genotype]\n",
    "        organ_data = [mice, date]\n",
    "        cc = ['caecal content']\n",
    "        cc2 = ['caecal content']\n",
    "        fp = ['faecal proximal']\n",
    "        fd = ['faecal distal']\n",
    "        ct = ['colon tissue']\n",
    "        seq_check(missing_samples)\n",
    "        histo_inputs = ['x', 'x', 'OCT']\n",
    "        histo_check(missing_samples)\n",
    "        joined_histo = list_data + histo_inputs\n",
    "        organs_inputs = ['x', 'x', 'x', 'x', 'x', 'x'] \n",
    "        organ_check(missing_samples)\n",
    "        joined_organs = organ_data + organs_inputs\n",
    "else: \n",
    "    print(\"Error, please type y or n!\")"
   ]
  },
  {
   "cell_type": "code",
   "execution_count": 4,
   "metadata": {},
   "outputs": [],
   "source": [
    "seq_samples_write()\n",
    "histo_write()\n",
    "organs_write()"
   ]
  },
  {
   "cell_type": "code",
   "execution_count": null,
   "metadata": {
    "collapsed": true
   },
   "outputs": [],
   "source": [
    "    "
   ]
  },
  {
   "cell_type": "code",
   "execution_count": null,
   "metadata": {
    "collapsed": true
   },
   "outputs": [],
   "source": []
  }
 ],
 "metadata": {
  "kernelspec": {
   "display_name": "Python 3",
   "language": "python",
   "name": "python3"
  },
  "language_info": {
   "codemirror_mode": {
    "name": "ipython",
    "version": 3
   },
   "file_extension": ".py",
   "mimetype": "text/x-python",
   "name": "python",
   "nbconvert_exporter": "python",
   "pygments_lexer": "ipython3",
   "version": "3.6.1"
  }
 },
 "nbformat": 4,
 "nbformat_minor": 2
}
